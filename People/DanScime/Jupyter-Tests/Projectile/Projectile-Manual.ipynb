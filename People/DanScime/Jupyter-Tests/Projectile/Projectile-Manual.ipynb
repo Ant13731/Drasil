{
 "cells": [
  {
   "cell_type": "markdown",
   "metadata": {},
   "source": [
    "<h1>Software Requirements Specification for Projectile</h1>"
   ]
  },
  {
   "cell_type": "markdown",
   "metadata": {},
   "source": [
    "<h2>Samuel J. Crawford, Brooks MacLachlan, and W. Spencer Smith</h2>"
   ]
  },
  {
   "cell_type": "markdown",
   "metadata": {},
   "source": [
    "<div id=\"Sec:RefMat\">\n",
    "<h1>Reference Material</h1>\n",
    "</div>"
   ]
  },
  {
   "cell_type": "markdown",
   "metadata": {},
   "source": [
    "This section records information for easy reference."
   ]
  },
  {
   "cell_type": "markdown",
   "metadata": {},
   "source": [
    "<div id=\"Sec:ToU\">\n",
    "<h2>Table of Units</h2>\n",
    "</div>"
   ]
  },
  {
   "cell_type": "markdown",
   "metadata": {},
   "source": [
    "The unit system used throughout is SI (Système International d'Unités). In addition to the basic units, several derived units are also used. For each unit, <a href=#Table:ToU>Tab: ToU</a> lists the symbol, a description and the SI name."
   ]
  },
  {
   "cell_type": "markdown",
   "metadata": {},
   "source": [
    "|<div id=\"Table:ToU\"></div> Symbol|Description|SI Name|\n",
    "|:--- |:--- |:--- |\n",
    "|m|length|metre|\n",
    "|rad|angle|radian|\n",
    "|s|time|second|\n"
   ]
  },
  {
   "cell_type": "markdown",
   "metadata": {},
   "source": [
    "<div id=\"Sec:ToS\">\n",
    "<h2>Table of Symbols</h2>\n",
    "</div>"
   ]
  },
  {
   "cell_type": "markdown",
   "metadata": {},
   "source": [
    "The symbols used in this document are summarized in <a href=#Table:ToS>Tab: ToS</a> along with their units. Throughout the document, symbols in bold will represent vectors, and scalars otherwise. The symbols are listed in alphabetical order. For vector quantities, the units shown are for each component of the vector."
   ]
  },
  {
   "cell_type": "markdown",
   "metadata": {},
   "source": [
    "|<div id=\"Table:ToS\"></div> Symbol|Description|Units|\n",
    "|:--- |:--- |:--- |\n",
    "|$a$|Scalar acceleration|$\\frac{\\text{m}}{\\text{s}^{2}}$|\n",
    "|<em>a<sup>c</sup></em>|Constant acceleration|m/s<sup>2</sup>|\n",
    "|<em>a<sub>x</sub></em>|<em>x</em>-component of acceleration|m/s<sup>2</sup>|\n",
    "|${a_{x}^{c}}$|$x$-component of acceleration|$\\frac{\\text{m}}{\\text{s}^{2}}$|\n",
    "|ay|y-component of acceleration|m/s2|\n",
    "|<em>a<sub>y</sub><sup>c</sup></em>|y-component of constant acceleration|m/s2|\n",
    "|a|Acceleration|m/s2|\n",
    "|ac|Constant acceleration vector|m/s2|\n",
    "|doffset|Distance between the target position and the landing position|m|\n",
    "|g|Gravitational acceleration|m/s2|\n",
    "|p|Scalar position|m|\n",
    "|pi|Initial position|m|\n",
    "|pland|Landing position|m|\n",
    "|ptarget|Target position|m|\n",
    "|px|x-component of position|m|\n",
    "|pxi|x-component of initial position|m|\n",
    "|py|y-component of position|m|\n",
    "|pyi|y-component of initial position|m|\n",
    "|p|Position|m|\n",
    "|s|Output message as a string|--|\n",
    "|t|Time|s|\n",
    "|tflight|Flight duration|s|\n",
    "|v|Speed|m/s|\n",
    "|vi|Initial speed|m/s|\n",
    "|vlaunch|Launch speed|m/s|\n",
    "|vx|x-component of velocity|m/s|\n",
    "|vxi|x-component of initial velocity|m/s|\n",
    "|vy|y-component of velocity|m/s|\n",
    "|vyi|y-component of initial velocity|m/s|\n",
    "|v|Velocity|m/s|\n",
    "|vi|Initial velocity|m/s|\n",
    "|ε|Hit tolerance|--|\n",
    "|θ|Launch angle|rad|\n",
    "|π|Ratio of circumference to diameter for any circle|--|\n"
   ]
  },
  {
   "cell_type": "markdown",
   "metadata": {},
   "source": [
    "<div id=\"Sec:TAbbAcc\">\n",
    "<h2>Abbreviations and Acronyms</h2>\n",
    "</div>"
   ]
  },
  {
   "cell_type": "markdown",
   "metadata": {},
   "source": [
    "|<div id=\"Table:TAbbAcc\"></div> Abbreviation|Full Form|\n",
    "|:--- |:--- |\n",
    "|1D|One-Dimensional|\n",
    "|2D|Two-Dimensional|\n",
    "|A|Assumption|\n",
    "|DD|Data Definition|\n",
    "|GD|General Definition|\n",
    "|GS|Goal Statement|\n",
    "|IM|Instance Model|\n",
    "|PS|Physical System Description|\n",
    "|R|Requirement|\n",
    "|SRS|Software Requirements Specification|\n",
    "|TM|Theoretical Model|\n",
    "|Uncert.|Typical Uncertainty|"
   ]
  },
  {
   "cell_type": "markdown",
   "metadata": {},
   "source": [
    "<div id=\"Sec:Intro\">\n",
    "<h1>Introduction</h1>\n",
    "</div>"
   ]
  },
  {
   "cell_type": "markdown",
   "metadata": {},
   "source": [
    "Projectile motion is a common problem in physics. Therefore, it is useful to have a program to solve and model these types of problems. The program documented here is called Projectile."
   ]
  },
  {
   "cell_type": "markdown",
   "metadata": {},
   "source": [
    "The following section provides an overview of the Software Requirements Specification (SRS) for Projectile. This section explains the purpose of this document, the scope of the system, the characteristics of the intended reader, and the organization of the document."
   ]
  },
  {
   "cell_type": "markdown",
   "metadata": {},
   "source": [
    "<div id=\"Sec:ReqsScope\">\n",
    "<h2>Scope of Requirements</h2>\n",
    "</div>"
   ]
  },
  {
   "cell_type": "markdown",
   "metadata": {},
   "source": [
    "The scope of the requirements includes the analysis of a two-dimensional (2D) projectile motion problem with constant acceleration. Given the appropriate inputs, Projectile determines if the projectile hits the target."
   ]
  },
  {
   "cell_type": "markdown",
   "metadata": {},
   "source": [
    "<div id=\"Sec:SpecSystDesc\">\n",
    "<h1>Specific System Description</h1>\n",
    "</div>"
   ]
  },
  {
   "cell_type": "markdown",
   "metadata": {},
   "source": [
    "This section first presents the problem description, which gives a high-level view of the problem to be solved. This is followed by the solution characteristics specification, which presents the assumptions, theories, and definitions that are used."
   ]
  },
  {
   "cell_type": "markdown",
   "metadata": {},
   "source": [
    "<div id=\"Sec:ProbDesc\">\n",
    "<h2>Problem Description</h2>\n",
    "</div>"
   ]
  },
  {
   "cell_type": "markdown",
   "metadata": {},
   "source": [
    "A system is needed to efficiently and correctly predict the landing position of a projectile."
   ]
  },
  {
   "cell_type": "markdown",
   "metadata": {},
   "source": [
    "<div id=\"Sec:TermDefs\">\n",
    "<h3>Terminology and Definitions</h3>\n",
    "</div>"
   ]
  },
  {
   "cell_type": "markdown",
   "metadata": {},
   "source": [
    "This subsection provides a list of terms that are used in the subsequent sections and their meaning, with the purpose of reducing ambiguity and making it easier to correctly understand the requirements."
   ]
  },
  {
   "cell_type": "markdown",
   "metadata": {},
   "source": [
    "* Launcher: Where the projectile is launched from and the device that does the launching.\n",
    "* Projectile: The object to be launched at the target.\n",
    "* Target: Where the projectile should be launched to.\n",
    "* Gravity: The force that attracts one physical body with mass to another.\n",
    "* Cartesian coordinate system: A coordinate system that specifies each point uniquely in a plane by a set of numerical coordinates, which are the signed distances to the point from two fixed perpendicular oriented lines, measured in the same unit of length (from <a href=#cartesianWiki>cartesianWiki</a>).\n",
    "* Rectilinear: Occuring in one dimension."
   ]
  },
  {
   "cell_type": "markdown",
   "metadata": {},
   "source": [
    "<div id=\"Sec:PhysSyst\">\n",
    "<h3>Physical System Description</h3>\n",
    "</div>"
   ]
  },
  {
   "cell_type": "markdown",
   "metadata": {},
   "source": [
    "The physical system of Projectile, as shown in <a href=#Figure:Launch>Fig:Launch</a>, includes the following elements:"
   ]
  },
  {
   "cell_type": "markdown",
   "metadata": {},
   "source": [
    "PS1: The launcher."
   ]
  },
  {
   "cell_type": "markdown",
   "metadata": {},
   "source": [
    "PS2: The projectile (with initial velocity <em><b>v</b><sup>i</sup></em> and launch angle <em>θ</em>)."
   ]
  },
  {
   "cell_type": "markdown",
   "metadata": {},
   "source": [
    "PS3: The target."
   ]
  },
  {
   "cell_type": "markdown",
   "metadata": {},
   "source": [
    "<div id=\"Figure:Launch\">\n",
    "<figure>\n",
    "<img src=\"Launch.jpg\" alt=\"The physical system\" width=\"70.0%\" >\n",
    "<figcaption>The physical system</figcaption>\n",
    "</figure>\n",
    "</div>"
   ]
  },
  {
   "cell_type": "markdown",
   "metadata": {},
   "source": [
    "<div id=\"Sec:GoalStmt\">\n",
    "<h3>Goal Statements</h3>\n",
    "</div>"
   ]
  },
  {
   "cell_type": "markdown",
   "metadata": {},
   "source": [
    "Given the initial velocity vector of the projectile, the goal statements are:"
   ]
  },
  {
   "cell_type": "markdown",
   "metadata": {},
   "source": [
    "<div id=\"targetHit\">\n",
    "targetHit: Determine if the projectile hits the target.\n",
    "</div>"
   ]
  },
  {
   "cell_type": "markdown",
   "metadata": {},
   "source": [
    "<div id=\"Sec:SolCharSpec\">\n",
    "<h2>Solution Characteristics Specification</h2>\n",
    "</div>"
   ]
  },
  {
   "cell_type": "markdown",
   "metadata": {},
   "source": [
    "The instance models that govern Projectile are presented in <a href=#Sec:IMs>Section: Instance Models</a>. The information to understand the meaning of the instance models and their derivation is also presented, so that the instance models can be verified."
   ]
  },
  {
   "cell_type": "markdown",
   "metadata": {},
   "source": [
    "<div id=\"Sec:Assumps\">\n",
    "<h3>Assumptions</h3>\n",
    "</div>"
   ]
  },
  {
   "cell_type": "markdown",
   "metadata": {},
   "source": [
    "This section simplifies the original problem and helps in developing the theoretical models by filling in the missing information for the physical system. The assumptions refine the scope by providing more detail."
   ]
  },
  {
   "cell_type": "markdown",
   "metadata": {},
   "source": [
    "<div id=\"twoDMotion\">\n",
    "twoDMotion: The projectile motion is two-dimensional (2D). (RefBy: <a href=#GD:velVec>GD: velVec</a> and <a href=#GD:posVec>GD: posVec</a>.)\n",
    "</div>"
   ]
  },
  {
   "cell_type": "markdown",
   "metadata": {},
   "source": [
    "<div id=\"cartSyst\">\n",
    "cartSyst: A Cartesian coordinate system is used (from <a href=#neglectCurv>A: neglectCurv</a>). (RefBy: <a href=#GD:velVec>GD: velVec</a> and <a href=#GD:posVec>GD: posVec</a>.)\n",
    "</div>"
   ]
  },
  {
   "cell_type": "markdown",
   "metadata": {},
   "source": [
    "<div id=\"yAxisGravity\">\n",
    "yAxisGravity: The direction of the <em>y</em>-axis is directed opposite to gravity. (RefBy: <a href=#IM:calOfLandingTime>IM: calOfLandingTime</a>, <a href=#IM:calOfLandingDist>IM: calOfLandingDist</a>, and <a href=#accelYGravity>A: accelYGravity</a>.)\n",
    "</div>"
   ]
  },
  {
   "cell_type": "markdown",
   "metadata": {},
   "source": [
    "<div id=\"launchOrigin\">\n",
    "launchOrigin: The launcher is coincident with the origin. (RefBy: <a href=#IM:calOfLandingTime>IM: calOfLandingTime</a> and <a href=#IM:calOfLandingDist>IM: calOfLandingDist</a>.)\n",
    "</div>"
   ]
  },
  {
   "cell_type": "markdown",
   "metadata": {},
   "source": [
    "<div id=\"targetXAxis\">\n",
    "targetXAxis: The target lies on the <em>x</em>-axis (from <a href=#neglectCurv>A: neglectCurv</a>). (RefBy: <a href=#IM:calOfLandingTime>IM: calOfLandingTime</a>.)\n",
    "</div>"
   ]
  },
  {
   "cell_type": "markdown",
   "metadata": {},
   "source": [
    "<div id=\"posXDirection\">\n",
    "posXDirection: The positive <em>x</em>-direction is from the launcher to the target. (RefBy: <a href=#IM:calOfLandingTime>IM: calOfLandingTime</a>, <a href=#IM:offsetIM>IM: offsetIM</a>, <a href=#IM:messageIM>IM: messageIM</a>, and <a href=#IM:calOfLandingDist>IM: calOfLandingDist</a>.)\n",
    "</div>"
   ]
  },
  {
   "cell_type": "markdown",
   "metadata": {},
   "source": [
    "<div id=\"constAccel\">\n",
    "constAccel: The acceleration is constant (from <a href=#accelXZero>A: accelXZero</a>, <a href=#accelYGravity>A: accelYGravity</a>, <a href=#neglectDrag>A: neglectDrag</a>, and <a href=#freeFlight>A: freeFlight</a>). (RefBy: <a href=#GD:velVec>GD: velVec</a> and <a href=#GD:posVec>GD: posVec</a>.)\n",
    "</div>"
   ]
  },
  {
   "cell_type": "markdown",
   "metadata": {},
   "source": [
    "<div id=\"accelXZero\">\n",
    "accelXZero: The acceleration in the <em>x</em>-direction is zero. (RefBy: <a href=#IM:calOfLandingDist>IM: calOfLandingDist</a> and <a href=#constAccel>A: constAccel</a>.)\n",
    "</div>"
   ]
  },
  {
   "cell_type": "markdown",
   "metadata": {},
   "source": [
    "<div id=\"accelYGravity\">\n",
    "accelYGravity: The acceleration in the <em>y</em>-direction is the acceleration due to gravity (from <a href=#yAxisGravity>A: yAxisGravity</a>). (RefBy: <a href=#IM:calOfLandingTime>IM: calOfLandingTime</a> and <a href=#constAccel>A: constAccel</a>.)\n",
    "</div>"
   ]
  },
  {
   "cell_type": "markdown",
   "metadata": {},
   "source": [
    "<div id=\"neglectDrag\">\n",
    "neglectDrag: Air drag is neglected. (RefBy: <a href=#constAccel>A: constAccel</a>.)\n",
    "</div>"
   ]
  },
  {
   "cell_type": "markdown",
   "metadata": {},
   "source": [
    "<div id=\"pointMass\">\n",
    "pointMass: The size and shape of the projectile are negligible, so that it can be modelled as a point mass. (RefBy: <a href=#GD:rectVel>GD: rectVel</a> and <a href=#GD:rectPos>GD: rectPos</a>.)\n",
    "</div>"
   ]
  },
  {
   "cell_type": "markdown",
   "metadata": {},
   "source": [
    "<div id=\"freeFlight\">\n",
    "freeFlight: The flight is free; there are no collisions during the trajectory of the projectile. (RefBy: <a href=#constAccel>A: constAccel</a>.)\n",
    "</div>"
   ]
  },
  {
   "cell_type": "markdown",
   "metadata": {},
   "source": [
    "<div id=\"neglectCurv\">\n",
    "neglectCurv: The distance is small enough that the curvature of the Earth can be neglected. (RefBy: <a href=#targetXAxis>A: targetXAxis</a> and <a href=#cartSyst>A: cartSyst</a>.)\n",
    "</div>"
   ]
  },
  {
   "cell_type": "markdown",
   "metadata": {},
   "source": [
    "<div id=\"timeStartZero\">\n",
    "timeStartZero: Time starts at zero. (RefBy: <a href=#GD:velVec>GD: velVec</a>, <a href=#IM:calOfLandingTime>IM: calOfLandingTime</a>, <a href=#GD:rectVel>GD: rectVel</a>, <a href=#GD:rectPos>GD: rectPos</a>, and <a href=#GD:posVec>GD: posVec</a>.)\n",
    "</div>"
   ]
  },
  {
   "cell_type": "markdown",
   "metadata": {},
   "source": [
    "<div id=\"Sec:TMs\">\n",
    "<h3>Theoretical Models</h3>\n",
    "</div>"
   ]
  },
  {
   "cell_type": "markdown",
   "metadata": {},
   "source": [
    "This section focuses on the general equations and laws that Projectile is based on."
   ]
  },
  {
   "cell_type": "markdown",
   "metadata": {},
   "source": [
    "|<div id=\"TM:acceleration\"></div> Refname|<b>TM:acceleration</b>|\n",
    "|:--- |:--- |\n",
    "|<b>Label</b>|Acceleration|\n",
    "|<b>Equation</b>|$$\\mathbf{a}=\\frac{\\,d\\mathbf{v}}{\\,dt}$$|\n",
    "|<b>Description</b>|<em><b>a</b></em> is the acceleration (m/s<sup>2</sup>) <br> <em>t</em> is the time (s) <br> <em><b>v</b></em> is the velocity (m/s)|\n",
    "|<b>Source</b>|<a href=#accelerationWiki>accelerationWiki</a> and <a href=#hibbeler2004>hibbeler2004</a> (pg. 7)|\n",
    "|<b>RefBy</b>|<a href=#GD:rectVel>GD: rectVel</a>|"
   ]
  },
  {
   "cell_type": "markdown",
   "metadata": {},
   "source": [
    "|<div id=\"TM:velocity\"></div> Refname|<b>TM:velocity</b>|\n",
    "|:--- |:--- |\n",
    "|<b>Label</b>|Velocity|\n",
    "|<b>Equation</b>|$$\\mathbf{v}=\\frac{\\,d\\mathbf{p}}{\\,dt}$$|\n",
    "|<b>Description</b>|<em><b>v</b></em> is the velocity (m/s) <br> <em>t</em> is the time (s) <br> <em><b>p</b></em> is the position (m)|\n",
    "|<b>Source</b>|<a href=#velocityWiki>velocityWiki</a> and <a href=#hibbeler2004>hibbeler2004</a> (pg. 6)|\n",
    "|<b>RefBy</b>|<a href=#GD:rectPos>GD: rectPos</a>|"
   ]
  },
  {
   "cell_type": "markdown",
   "metadata": {},
   "source": [
    "<div id=\"Sec:GDs\">\n",
    "<h3>General Definitions</h3>\n",
    "</div>"
   ]
  },
  {
   "cell_type": "markdown",
   "metadata": {},
   "source": [
    "This section collects the laws and equations that will be used to build the instance models."
   ]
  },
  {
   "cell_type": "markdown",
   "metadata": {},
   "source": [
    "|<div id=\"GD:rectVel\"></div> Refname|<b>GD:rectVel</b>|\n",
    "|:--- |:--- |\n",
    "|<b>Label</b>|Rectilinear (1D) velocity as a function of time for constant acceleration|\n",
    "|<b>Units</b>|m/s|\n",
    "|<b>Equation</b>|$$v={v^{i}}+{a^{c}} t$$|\n",
    "|<b>Description</b>|<em>v</em> is the speed (m/s) <br> <em>v<sup>i</sup></em> is the initial speed (m/s) <br> <em>a<sup>c</sup></em> is the constant acceleration (m/s<sup>2</sup>) <br> <em>t</em> is the time (s)|\n",
    "|<b>Source</b>|<a href=#hibbeler2004>hibbeler2004</a> (pg. 8)|\n",
    "|<b>RefBy</b>|<a href=#GD:velVec>GD: velVec</a> and <a href=#GD:rectPos>GD: rectPos</a>|"
   ]
  },
  {
   "cell_type": "markdown",
   "metadata": {},
   "source": [
    "<div id=\"GD:rectVelDeriv\">\n",
    "<h4>Detailed derivation of rectilinear velocity:</h4>\n",
    "</div>"
   ]
  },
  {
   "cell_type": "markdown",
   "metadata": {},
   "source": [
    "Assume we have rectilinear motion of a particle (of negligible size and shape, from <a href=#pointMass>A: pointMass</a>); that is, motion in a straight line. The velocity is <em>v</em> and the acceleration is <em>a</em>. The motion in <a href=#TM:acceleration>TM: acceleration</a> is now one-dimensional with a constant acceleration, represented by <em>a<sup>c</sup></em>. The initial velocity (at <em>t = 0</em>, from <a href=#timeStartZero>A: timeStartZero</a>) is represented by <em>v<sup>i</sup></em>. From <a href=#TM:acceleration>TM: acceleration</a>, using the above symbols we have:"
   ]
  },
  {
   "cell_type": "markdown",
   "metadata": {},
   "source": [
    "$${a^{c}}=\\frac{\\,dv}{\\,dt}$$"
   ]
  },
  {
   "cell_type": "markdown",
   "metadata": {},
   "source": [
    "Rearranging and integrating, we have:"
   ]
  },
  {
   "cell_type": "markdown",
   "metadata": {},
   "source": [
    "$$\\int_{{v^{i}}}^{v}{1}\\,dv=\\int_{0}^{t}{{a^{c}}}\\,dt$$"
   ]
  },
  {
   "cell_type": "markdown",
   "metadata": {},
   "source": [
    "Performing the integration, we have the required equation:"
   ]
  },
  {
   "cell_type": "markdown",
   "metadata": {},
   "source": [
    "$$v={v^{i}}+{a^{c}} t$$"
   ]
  },
  {
   "cell_type": "markdown",
   "metadata": {},
   "source": [
    "|<div id=\"GD:rectPos\"></div> Refname|<b>GD:rectPos</b>|\n",
    "|:--- |:--- |\n",
    "|<b>Label</b>|Rectilinear (1D) position as a function of time for constant acceleration|\n",
    "|<b>Units</b>|m|\n",
    "|<b>Equation</b>|$$p={p^{i}}+{v^{i}} t+\\frac{{a^{c}} t^{2}}{2}$$|\n",
    "|<b>Description</b>|<em>p</em> is the scalar position (m) <br> <em>p<sup>i</sup></em> is the initial position (m) <br> <em>v<sup>i</sup></em> is the initial speed (m/s) <br> <em>t</em> is the time (s) <br> <em>a<sup>c</sup></em> is the constant acceleration (m/s<sup>2</sup>)|\n",
    "|<b>Source</b>|<a href=#hibbeler2004>hibbeler2004</a> (pg. 8)|\n",
    "|<b>RefBy</b>|<a href=#GD:posVec>GD: posVec</a>|"
   ]
  },
  {
   "cell_type": "markdown",
   "metadata": {},
   "source": [
    "<div id=\"GD:rectPosDeriv\">\n",
    "<h4>Detailed derivation of rectilinear position:</h4>\n",
    "</div>"
   ]
  },
  {
   "cell_type": "markdown",
   "metadata": {},
   "source": [
    "Assume we have rectilinear motion of a particle (of negligible size and shape, from <a href=#pointMass>A: pointMass</a>); that is, motion in a straight line. The position is <em>p</em> and the velocity is <em>v</em>. The motion in <a href=#TM:velocity>TM: velocity</a> is now one-dimensional. The initial position (at <em>t = 0</em>, from <a href=#timeStartZero>A: timeStartZero</a>) is represented by <em>p<sup>i</sup></em>. From <a href=#TM:velocity>TM: velocity</a>, using the above symbols we have:"
   ]
  },
  {
   "cell_type": "markdown",
   "metadata": {},
   "source": [
    "$$v=\\frac{\\,dp}{\\,dt}$$"
   ]
  },
  {
   "cell_type": "markdown",
   "metadata": {},
   "source": [
    "Rearranging and integrating, we have:"
   ]
  },
  {
   "cell_type": "markdown",
   "metadata": {},
   "source": [
    "$$\\int_{{p^{i}}}^{p}{1}\\,dp=\\int_{0}^{t}{v}\\,dt$$"
   ]
  },
  {
   "cell_type": "markdown",
   "metadata": {},
   "source": [
    "From <a href=#GD:rectVel>GD: rectVel</a> we can replace <em>v</em>:"
   ]
  },
  {
   "cell_type": "markdown",
   "metadata": {},
   "source": [
    "$$\\int_{{p^{i}}}^{p}{1}\\,dp=\\int_{0}^{t}{{v^{i}}+{a^{c}} t}\\,dt$$"
   ]
  },
  {
   "cell_type": "markdown",
   "metadata": {},
   "source": [
    "Performing the integration, we have the required equation:"
   ]
  },
  {
   "cell_type": "markdown",
   "metadata": {},
   "source": [
    "$$p={p^{i}}+{v^{i}} t+\\frac{{a^{c}} t^{2}}{2}$$"
   ]
  },
  {
   "cell_type": "markdown",
   "metadata": {},
   "source": [
    "|<div id=\"GD:velVec\"></div> Refname|<b>GD:velVec</b>|\n",
    "|:--- |:--- |\n",
    "|<b>Label</b>|Velocity vector as a function of time for 2D motion under constant acceleration|\n",
    "|<b>Units</b>|m/s|\n",
    "|<b>Equation</b>|$$\n",
    "\\mathbf{v}=\\begin{bmatrix}\n",
    "{{v_{x}}^{i}}+{{a_{x}}^{c}} t\\\\\n",
    "{{v_{y}}^{i}}+{{a_{y}}^{c}} t\n",
    "\\end{bmatrix}\n",
    "$$|\n",
    "|<b>Description</b>|<em><b>v</b></em> is the velocity (m/s) <br> <em>v<sub>x</sub><sup>i</sup></em> is the <em>x</em>-component of initial velocity (m/s) <br> <em>a<sub>x</sub><sup>c</sup></em> is the <em>x</em>-component of constant acceleration (m/s<sup>2</sup>) <br> <em>t</em> is the time (s) <br> <em>v<sub>y</sub><sup>i</sup></em> is the <em>y</em>-component of initial velocity (m/s) <br> <em>a<sub>y</sub><sup>c</sup></em> is the <em>y</em>-component of constant acceleration (m/s<sup>2</sup>)|\n",
    "|<b>Source</b>|--|\n",
    "|<b>RefBy</b>||"
   ]
  },
  {
   "cell_type": "markdown",
   "metadata": {},
   "source": [
    "<div id=\"GD:velVecDeriv\">\n",
    "<h4>Detailed derivation of velocity vector:</h4>\n",
    "</div>"
   ]
  },
  {
   "cell_type": "markdown",
   "metadata": {},
   "source": [
    "For a two-dimensional Cartesian coordinate system (<a href=#twoDMotion>A: twoDMotion</a> and <a href=#cartSyst>A: cartSyst</a>), we can represent the velocity vector as\n",
    "$\\mathbf{v}=\\begin{bmatrix}\n",
    "{v_{x}}\\\\\n",
    "{v_{y}}\n",
    "\\end{bmatrix}$\n",
    "and the acceleration vector as\n",
    "$\\mathbf{a}=\\begin{bmatrix}\n",
    "{a_{x}}\\\\\n",
    "{a_{y}}\n",
    "\\end{bmatrix}$\n",
    ". The acceleration is assumed to be constant (<a href=#constAccel>A: constAccel</a>) and the constant acceleration vector is represented as ${\\mathbf{a}^{c}}=\\begin{bmatrix}\n",
    "{{a_{x}}^{c}}\\\\\n",
    "{{a_{y}}^{c}}\n",
    "\\end{bmatrix}$\n",
    ". The initial velocity (at <em>t = 0</em>, from <a href=#timeStartZero>A: timeStartZero</a>) is represented by\n",
    "${\\mathbf{v}^{i}}=\\begin{bmatrix}\n",
    "{{v_{x}}^{i}}\\\\\n",
    "{{v_{y}}^{i}}\n",
    "\\end{bmatrix}$\n",
    ". Since we have a Cartesian coordinate system, <a href=#GD:rectVel>GD: rectVel</a> can be applied to each coordinate of the velocity vector to yield the required equation:"
   ]
  },
  {
   "cell_type": "markdown",
   "metadata": {},
   "source": [
    "$$\n",
    "\\mathbf{v}=\\begin{bmatrix}\n",
    "{{v_{x}}^{i}}+{{a_{x}}^{c}} t\\\\\n",
    "{{v_{y}}^{i}}+{{a_{y}}^{c}} t\n",
    "\\end{bmatrix}\n",
    "$$"
   ]
  },
  {
   "cell_type": "markdown",
   "metadata": {},
   "source": [
    "|<div id=\"GD:posVec\"></div> Refname|<b>GD:posVec</b>|\n",
    "|:--- |:--- |\n",
    "|<b>Label</b>|Position vector as a function of time for 2D motion under constant acceleration|\n",
    "|<b>Units</b>|m/s|\n",
    "|<b>Equation</b>|$$\n",
    "\\mathbf{p}=\\begin{bmatrix}\n",
    "{{p_{x}}^{i}}+{{v_{x}}^{i}} t+\\frac{{{a_{x}}^{c}} t^{2}}{2}\\\\\n",
    "{{p_{y}}^{i}}+{{v_{y}}^{i}} t+\\frac{{{a_{y}}^{c}} t^{2}}{2}\n",
    "\\end{bmatrix}\n",
    "$$|\n",
    "|<b>Description</b>|<em><b>p</b></em> is the position (m) <br> <em>p<sub>x</sub><sup>i</sup></em> is the <em>x</em>-component of initial position (m) <br> <em>v<sub>x</sub><sup>i</sup></em> is the <em>x</em>-component of initial velocity (m/s) <br> <em>t</em> is the time (s) <br> <em>a<sub>x</sub><sup>c</sup></em> is the <em>x</em>-component of constant acceleration (m/s<sup>2</sup>) <br> <em>p<sub>y</sub><sup>i</sup></em> is the <em>y</em>-component of initial position (m) <br> <em>v<sub>y</sub><sup>i</sup></em> is the <em>y</em>-component of initial velocity (m/s) <br> <em>a<sub>y</sub><sup>c</sup></em> is the <em>y</em>-component of constant acceleration (m/s<sup>2</sup>)|\n",
    "|<b>Source</b>|--|\n",
    "|<b>RefBy</b>|<a href=#IM:calOfLandingTime>IM: calOfLandingTime</a> and <a href=#IM:calOfLandingDist>IM: calOfLandingDist</a>|"
   ]
  },
  {
   "cell_type": "markdown",
   "metadata": {},
   "source": [
    "<div id=\"GD:posVecDeriv\">\n",
    "<h4>Detailed derivation of position vector:</h4>\n",
    "</div>"
   ]
  },
  {
   "cell_type": "markdown",
   "metadata": {},
   "source": [
    "For a two-dimensional Cartesian coordinate system (<a href=#twoDMotion>A: twoDMotion</a> and <a href=#cartSyst>A: cartSyst</a>), we can represent the position vector as\n",
    "$\\mathbf{p}=\\begin{bmatrix}\n",
    "{p_{x}}\\\\\n",
    "{p_{y}}\n",
    "\\end{bmatrix}$\n",
    ", the velocity vector as\n",
    "$\\mathbf{v}=\\begin{bmatrix}\n",
    "{v_{x}}\\\\\n",
    "{v_{y}}\n",
    "\\end{bmatrix}$\n",
    ", and the acceleration vector as\n",
    "$\\mathbf{a}=\\begin{bmatrix}\n",
    "{a_{x}}\\\\\n",
    "{a_{y}}\n",
    "\\end{bmatrix}$\n",
    ". The acceleration is assumed to be constant (<a href=#constAccel>A: constAccel</a>) and the constant acceleration vector is represented as\n",
    "${\\mathbf{a}^{c}}=\\begin{bmatrix}\n",
    "{{a_{x}}^{c}}\\\\\n",
    "{{a_{y}}^{c}}\n",
    "\\end{bmatrix}$\n",
    ". The initial velocity (at <em>t = 0</em>, from <a href=#timeStartZero>A: timeStartZero</a>) is represented by\n",
    "${\\mathbf{v}^{i}}=\\begin{bmatrix}\n",
    "{{v_{x}}^{i}}\\\\\n",
    "{{v_{y}}^{i}}\n",
    "\\end{bmatrix}$\n",
    ". Since we have a Cartesian coordinate system, <a href=#GD:rectPos>GD: rectPos</a> can be applied to each coordinate of the position vector to yield the required equation:"
   ]
  },
  {
   "cell_type": "markdown",
   "metadata": {},
   "source": [
    "$$\\mathbf{p}=\\begin{bmatrix}\n",
    "{{p_{x}}^{i}}+{{v_{x}}^{i}} t+\\frac{{{a_{x}}^{c}} t^{2}}{2}\\\\\n",
    "{{p_{y}}^{i}}+{{v_{y}}^{i}} t+\\frac{{{a_{y}}^{c}} t^{2}}{2}\n",
    "\\end{bmatrix}$$"
   ]
  },
  {
   "cell_type": "markdown",
   "metadata": {},
   "source": []
  },
  {
   "cell_type": "markdown",
   "metadata": {},
   "source": []
  },
  {
   "cell_type": "markdown",
   "metadata": {},
   "source": []
  },
  {
   "cell_type": "markdown",
   "metadata": {},
   "source": []
  },
  {
   "cell_type": "markdown",
   "metadata": {},
   "source": []
  },
  {
   "cell_type": "markdown",
   "metadata": {},
   "source": []
  },
  {
   "cell_type": "markdown",
   "metadata": {},
   "source": []
  },
  {
   "cell_type": "markdown",
   "metadata": {},
   "source": []
  },
  {
   "cell_type": "markdown",
   "metadata": {},
   "source": []
  },
  {
   "cell_type": "markdown",
   "metadata": {},
   "source": []
  },
  {
   "cell_type": "markdown",
   "metadata": {},
   "source": []
  },
  {
   "cell_type": "markdown",
   "metadata": {},
   "source": []
  },
  {
   "cell_type": "markdown",
   "metadata": {},
   "source": []
  },
  {
   "cell_type": "markdown",
   "metadata": {},
   "source": []
  },
  {
   "cell_type": "markdown",
   "metadata": {},
   "source": []
  },
  {
   "cell_type": "markdown",
   "metadata": {},
   "source": []
  },
  {
   "cell_type": "markdown",
   "metadata": {},
   "source": []
  },
  {
   "cell_type": "markdown",
   "metadata": {},
   "source": []
  },
  {
   "cell_type": "markdown",
   "metadata": {},
   "source": []
  },
  {
   "cell_type": "markdown",
   "metadata": {},
   "source": []
  },
  {
   "cell_type": "markdown",
   "metadata": {},
   "source": []
  },
  {
   "cell_type": "markdown",
   "metadata": {},
   "source": []
  },
  {
   "cell_type": "markdown",
   "metadata": {},
   "source": []
  },
  {
   "cell_type": "markdown",
   "metadata": {},
   "source": []
  },
  {
   "cell_type": "markdown",
   "metadata": {},
   "source": []
  },
  {
   "cell_type": "markdown",
   "metadata": {},
   "source": []
  },
  {
   "cell_type": "markdown",
   "metadata": {},
   "source": []
  },
  {
   "cell_type": "markdown",
   "metadata": {},
   "source": []
  },
  {
   "cell_type": "markdown",
   "metadata": {},
   "source": []
  },
  {
   "cell_type": "markdown",
   "metadata": {},
   "source": []
  },
  {
   "cell_type": "markdown",
   "metadata": {},
   "source": []
  },
  {
   "cell_type": "markdown",
   "metadata": {},
   "source": []
  },
  {
   "cell_type": "markdown",
   "metadata": {},
   "source": []
  },
  {
   "cell_type": "markdown",
   "metadata": {},
   "source": []
  },
  {
   "cell_type": "markdown",
   "metadata": {},
   "source": []
  },
  {
   "cell_type": "markdown",
   "metadata": {},
   "source": []
  },
  {
   "cell_type": "markdown",
   "metadata": {},
   "source": []
  },
  {
   "cell_type": "markdown",
   "metadata": {},
   "source": []
  },
  {
   "cell_type": "markdown",
   "metadata": {},
   "source": []
  },
  {
   "cell_type": "markdown",
   "metadata": {},
   "source": []
  },
  {
   "cell_type": "markdown",
   "metadata": {},
   "source": []
  },
  {
   "cell_type": "markdown",
   "metadata": {},
   "source": []
  },
  {
   "cell_type": "markdown",
   "metadata": {},
   "source": []
  },
  {
   "cell_type": "markdown",
   "metadata": {},
   "source": []
  },
  {
   "cell_type": "markdown",
   "metadata": {},
   "source": []
  },
  {
   "cell_type": "markdown",
   "metadata": {},
   "source": []
  },
  {
   "cell_type": "markdown",
   "metadata": {},
   "source": []
  },
  {
   "cell_type": "markdown",
   "metadata": {},
   "source": []
  },
  {
   "cell_type": "markdown",
   "metadata": {},
   "source": []
  },
  {
   "cell_type": "markdown",
   "metadata": {},
   "source": []
  },
  {
   "cell_type": "markdown",
   "metadata": {},
   "source": []
  },
  {
   "cell_type": "markdown",
   "metadata": {},
   "source": []
  },
  {
   "cell_type": "markdown",
   "metadata": {},
   "source": []
  },
  {
   "cell_type": "markdown",
   "metadata": {},
   "source": []
  },
  {
   "cell_type": "markdown",
   "metadata": {},
   "source": []
  },
  {
   "cell_type": "markdown",
   "metadata": {},
   "source": []
  },
  {
   "cell_type": "markdown",
   "metadata": {},
   "source": []
  },
  {
   "cell_type": "markdown",
   "metadata": {},
   "source": []
  },
  {
   "cell_type": "markdown",
   "metadata": {},
   "source": []
  },
  {
   "cell_type": "markdown",
   "metadata": {},
   "source": []
  },
  {
   "cell_type": "markdown",
   "metadata": {},
   "source": []
  },
  {
   "cell_type": "markdown",
   "metadata": {},
   "source": []
  },
  {
   "cell_type": "markdown",
   "metadata": {},
   "source": []
  },
  {
   "cell_type": "markdown",
   "metadata": {},
   "source": []
  },
  {
   "cell_type": "markdown",
   "metadata": {},
   "source": []
  },
  {
   "cell_type": "markdown",
   "metadata": {},
   "source": []
  },
  {
   "cell_type": "markdown",
   "metadata": {},
   "source": []
  },
  {
   "cell_type": "markdown",
   "metadata": {},
   "source": []
  },
  {
   "cell_type": "markdown",
   "metadata": {},
   "source": []
  },
  {
   "cell_type": "markdown",
   "metadata": {},
   "source": []
  },
  {
   "cell_type": "markdown",
   "metadata": {},
   "source": []
  },
  {
   "cell_type": "markdown",
   "metadata": {},
   "source": []
  },
  {
   "cell_type": "markdown",
   "metadata": {},
   "source": []
  },
  {
   "cell_type": "markdown",
   "metadata": {},
   "source": []
  },
  {
   "cell_type": "markdown",
   "metadata": {},
   "source": []
  },
  {
   "cell_type": "markdown",
   "metadata": {},
   "source": []
  },
  {
   "cell_type": "markdown",
   "metadata": {},
   "source": []
  },
  {
   "cell_type": "markdown",
   "metadata": {},
   "source": []
  },
  {
   "cell_type": "markdown",
   "metadata": {},
   "source": []
  },
  {
   "cell_type": "markdown",
   "metadata": {},
   "source": []
  }
 ],
 "metadata": {
  "kernelspec": {
   "display_name": "Python 3",
   "language": "python",
   "name": "python3"
  },
  "language_info": {
   "codemirror_mode": {
    "name": "ipython",
    "version": 3
   },
   "file_extension": ".py",
   "mimetype": "text/x-python",
   "name": "python",
   "nbconvert_exporter": "python",
   "pygments_lexer": "ipython3",
   "version": "3.7.4"
  }
 },
 "nbformat": 4,
 "nbformat_minor": 2
}
