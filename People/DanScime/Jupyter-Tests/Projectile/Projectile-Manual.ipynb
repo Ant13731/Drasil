{
 "cells": [
  {
   "cell_type": "markdown",
   "metadata": {},
   "source": [
    "<h1>Software Requirements Specification for Projectile</h1>"
   ]
  },
  {
   "cell_type": "markdown",
   "metadata": {},
   "source": [
    "<h2>Samuel J. Crawford, Brooks MacLachlan, and W. Spencer Smith</h2>"
   ]
  },
  {
   "cell_type": "markdown",
   "metadata": {},
   "source": [
    "<div id=\"Sec:RefMat\">\n",
    "<h1>Reference Material</h1>\n",
    "</div>"
   ]
  },
  {
   "cell_type": "markdown",
   "metadata": {},
   "source": [
    "This section records information for easy reference."
   ]
  },
  {
   "cell_type": "markdown",
   "metadata": {},
   "source": [
    "<div id=\"Sec:ToU\">\n",
    "<h2>Table of Units</h2>\n",
    "</div>"
   ]
  },
  {
   "cell_type": "markdown",
   "metadata": {},
   "source": [
    "The unit system used throughout is SI (Système International d'Unités). In addition to the basic units, several derived units are also used. For each unit, <a href=#Table:ToU>Tab: ToU</a> lists the symbol, a description and the SI name."
   ]
  },
  {
   "cell_type": "markdown",
   "metadata": {},
   "source": [
    "|<div id=\"Table:ToU\"></div> Symbol|Description|SI Name|\n",
    "|:--- |:--- |:--- |\n",
    "|m|length|metre|\n",
    "|rad|angle|radian|\n",
    "|s|time|second|\n"
   ]
  },
  {
   "cell_type": "markdown",
   "metadata": {},
   "source": [
    "<div id=\"Sec:ToS\">\n",
    "<h2>Table of Symbols</h2>\n",
    "</div>"
   ]
  },
  {
   "cell_type": "markdown",
   "metadata": {},
   "source": [
    "The symbols used in this document are summarized in <a href=#Table:ToS>Tab: ToS</a> along with their units. Throughout the document, symbols in bold will represent vectors, and scalars otherwise. The symbols are listed in alphabetical order. For vector quantities, the units shown are for each component of the vector."
   ]
  },
  {
   "cell_type": "markdown",
   "metadata": {},
   "source": [
    "|<div id=\"Table:ToS\"></div> Symbol|Description|Units|\n",
    "|:--- |:--- |:--- |\n",
    "|$a$|Scalar acceleration|$\\frac{\\text{m}}{\\text{s}^{2}}$|\n",
    "|<em>a<sup>c</sup></em>|Constant acceleration|m/s<sup>2</sup>|\n",
    "|<em>a<sub>x</sub></em>|<em>x</em>-component of acceleration|m/s<sup>2</sup>|\n",
    "|${a_{x}^{c}}$|$x$-component of acceleration|$\\frac{\\text{m}}{\\text{s}^{2}}$|\n",
    "|ay|y-component of acceleration|m/s2|\n",
    "|<em>a<sub>y</sub><sup>c</sup></em>|y-component of constant acceleration|m/s2|\n",
    "|a|Acceleration|m/s2|\n",
    "|ac|Constant acceleration vector|m/s2|\n",
    "|doffset|Distance between the target position and the landing position|m|\n",
    "|g|Gravitational acceleration|m/s2|\n",
    "|p|Scalar position|m|\n",
    "|pi|Initial position|m|\n",
    "|pland|Landing position|m|\n",
    "|ptarget|Target position|m|\n",
    "|px|x-component of position|m|\n",
    "|pxi|x-component of initial position|m|\n",
    "|py|y-component of position|m|\n",
    "|pyi|y-component of initial position|m|\n",
    "|p|Position|m|\n",
    "|s|Output message as a string|--|\n",
    "|t|Time|s|\n",
    "|tflight|Flight duration|s|\n",
    "|v|Speed|m/s|\n",
    "|vi|Initial speed|m/s|\n",
    "|vlaunch|Launch speed|m/s|\n",
    "|vx|x-component of velocity|m/s|\n",
    "|vxi|x-component of initial velocity|m/s|\n",
    "|vy|y-component of velocity|m/s|\n",
    "|vyi|y-component of initial velocity|m/s|\n",
    "|v|Velocity|m/s|\n",
    "|vi|Initial velocity|m/s|\n",
    "|ε|Hit tolerance|--|\n",
    "|θ|Launch angle|rad|\n",
    "|π|Ratio of circumference to diameter for any circle|--|\n"
   ]
  },
  {
   "cell_type": "markdown",
   "metadata": {},
   "source": [
    "<div id=\"Sec:TAbbAcc\">\n",
    "<h2>Abbreviations and Acronyms</h2>\n",
    "</div>"
   ]
  },
  {
   "cell_type": "markdown",
   "metadata": {},
   "source": [
    "|<div id=\"Table:TAbbAcc\"></div> Abbreviation|Full Form|\n",
    "|:--- |:--- |\n",
    "|1D|One-Dimensional|\n",
    "|2D|Two-Dimensional|\n",
    "|A|Assumption|\n",
    "|DD|Data Definition|\n",
    "|GD|General Definition|\n",
    "|GS|Goal Statement|\n",
    "|IM|Instance Model|\n",
    "|PS|Physical System Description|\n",
    "|R|Requirement|\n",
    "|SRS|Software Requirements Specification|\n",
    "|TM|Theoretical Model|\n",
    "|Uncert.|Typical Uncertainty|"
   ]
  },
  {
   "cell_type": "markdown",
   "metadata": {},
   "source": [
    "<div id=\"Sec:Intro\">\n",
    "<h1>Introduction</h1>\n",
    "</div>"
   ]
  },
  {
   "cell_type": "markdown",
   "metadata": {},
   "source": [
    "Projectile motion is a common problem in physics. Therefore, it is useful to have a program to solve and model these types of problems. The program documented here is called Projectile."
   ]
  },
  {
   "cell_type": "markdown",
   "metadata": {},
   "source": []
  },
  {
   "cell_type": "markdown",
   "metadata": {},
   "source": []
  },
  {
   "cell_type": "markdown",
   "metadata": {},
   "source": []
  },
  {
   "cell_type": "markdown",
   "metadata": {},
   "source": []
  },
  {
   "cell_type": "markdown",
   "metadata": {},
   "source": []
  },
  {
   "cell_type": "markdown",
   "metadata": {},
   "source": []
  },
  {
   "cell_type": "markdown",
   "metadata": {},
   "source": []
  },
  {
   "cell_type": "markdown",
   "metadata": {},
   "source": []
  },
  {
   "cell_type": "markdown",
   "metadata": {},
   "source": []
  },
  {
   "cell_type": "markdown",
   "metadata": {},
   "source": []
  },
  {
   "cell_type": "markdown",
   "metadata": {},
   "source": []
  },
  {
   "cell_type": "markdown",
   "metadata": {},
   "source": []
  },
  {
   "cell_type": "markdown",
   "metadata": {},
   "source": []
  },
  {
   "cell_type": "markdown",
   "metadata": {},
   "source": []
  },
  {
   "cell_type": "markdown",
   "metadata": {},
   "source": []
  },
  {
   "cell_type": "markdown",
   "metadata": {},
   "source": []
  },
  {
   "cell_type": "markdown",
   "metadata": {},
   "source": []
  },
  {
   "cell_type": "markdown",
   "metadata": {},
   "source": []
  },
  {
   "cell_type": "markdown",
   "metadata": {},
   "source": []
  },
  {
   "cell_type": "markdown",
   "metadata": {},
   "source": []
  },
  {
   "cell_type": "markdown",
   "metadata": {},
   "source": []
  },
  {
   "cell_type": "markdown",
   "metadata": {},
   "source": []
  },
  {
   "cell_type": "markdown",
   "metadata": {},
   "source": []
  },
  {
   "cell_type": "markdown",
   "metadata": {},
   "source": []
  },
  {
   "cell_type": "markdown",
   "metadata": {},
   "source": []
  },
  {
   "cell_type": "markdown",
   "metadata": {},
   "source": []
  },
  {
   "cell_type": "markdown",
   "metadata": {},
   "source": []
  },
  {
   "cell_type": "markdown",
   "metadata": {},
   "source": []
  },
  {
   "cell_type": "markdown",
   "metadata": {},
   "source": []
  },
  {
   "cell_type": "markdown",
   "metadata": {},
   "source": []
  },
  {
   "cell_type": "markdown",
   "metadata": {},
   "source": []
  },
  {
   "cell_type": "markdown",
   "metadata": {},
   "source": []
  },
  {
   "cell_type": "markdown",
   "metadata": {},
   "source": []
  },
  {
   "cell_type": "markdown",
   "metadata": {},
   "source": []
  },
  {
   "cell_type": "markdown",
   "metadata": {},
   "source": []
  },
  {
   "cell_type": "markdown",
   "metadata": {},
   "source": []
  },
  {
   "cell_type": "markdown",
   "metadata": {},
   "source": []
  },
  {
   "cell_type": "markdown",
   "metadata": {},
   "source": []
  },
  {
   "cell_type": "markdown",
   "metadata": {},
   "source": []
  },
  {
   "cell_type": "markdown",
   "metadata": {},
   "source": []
  },
  {
   "cell_type": "markdown",
   "metadata": {},
   "source": []
  },
  {
   "cell_type": "markdown",
   "metadata": {},
   "source": []
  }
 ],
 "metadata": {
  "kernelspec": {
   "display_name": "Python 3",
   "language": "python",
   "name": "python3"
  },
  "language_info": {
   "codemirror_mode": {
    "name": "ipython",
    "version": 3
   },
   "file_extension": ".py",
   "mimetype": "text/x-python",
   "name": "python",
   "nbconvert_exporter": "python",
   "pygments_lexer": "ipython3",
   "version": "3.7.4"
  }
 },
 "nbformat": 4,
 "nbformat_minor": 2
}
