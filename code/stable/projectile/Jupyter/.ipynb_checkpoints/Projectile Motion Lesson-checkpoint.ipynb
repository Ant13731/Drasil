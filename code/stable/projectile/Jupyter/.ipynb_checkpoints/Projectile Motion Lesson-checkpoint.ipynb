{
 "cells": [
  {
   "cell_type": "markdown",
   "metadata": {},
   "source": [
    "# Notebook for Projectile Motion\n",
    "## W. Spencer Smith\n",
    "<a id=\"Sec:Intro\"></a>\n",
    "# Introduction\n",
    "<a id=\"Sec:Intro\"></a>\n",
    "One of the first topics typically taught when students are introduced to the study of dynamics is projectile motion. Projectile motion is a good starting point for two reasons: 1. The model developed is relatively simple because it only involves kinematic quantities, , not kinetics. Kinematics focuses on the geometrics aspects of motion while kinetics introduces the concept of forces. 2. Projectile motion has practical applications for tracking the motion of launched or thrown objects.\n",
    "The presentation below is based on Section 12.6 (Motion of a Projectile) from the classic Hibbler text Engineering Mechanics Dynamnics, 10th edition.\n",
    "<a id=\"Sec:Body\"></a>\n",
    "# Body\n",
    "<a id=\"Sec:Body\"></a>\n",
    ".\n",
    "<a id=\"Sec:Review\"></a>\n",
    "## Review\n",
    "<a id=\"Sec:Review\"></a>\n",
    "As covered previously, the equations relating velocity( 𝑣 ), position ( 𝑝 ) and time ( 𝑡 ) for motion in one dimension with constant acceleration ( 𝑎𝑐 ) are as follows:.\n",
    "<em>v = v<sup>i</sup>&plus;a<sup>c</sup>&#8239;t</em> where <em>v<sup>i</sup></em> and <em>p<sup>i</sup></em> are the initial velocity and position, respectively.\n",
    "Only two of these equations are independent, since the third equation can always be derived from the other two [--ref-- is not in the Projectile SRS].\n",
    "<a id=\"Sec:MainIdea\"></a>\n",
    "## Main Idea\n",
    "<a id=\"Sec:MainIdea\"></a>\n",
    "The free flight motion of a  projectile is often studied in terms of its rectangular components, since the projectile's acceleration always acts in the vertical direciton To illustrate the kinematic analysis, consider a  projectile launched at point  ( <em>v<sub>x</sub><sup>i</sup></em> , <em>v<sub>y</sub><sup>i</sup></em> ) , as shown in Figure [hyperref here?] The path is defined in the x-y plane such that the initial velocity is.\n",
    "The equations for rectilinear kinematics given above (ref) are in one dimension These equations can be applied for both the vertical motion and the horizontal directions, as follows:.\n",
    "<a id=\"Sec:MainIdea\"></a>\n",
    "### Main Idea\n",
    "<a id=\"Sec:MainIdea\"></a>\n",
    "For projectile motion the acceleration in the horizontal direction is constant and equal to zero. This value can be substituted in the equations for constant acceleration given above to yield the following:\n",
    "From Equation From Equation From Equation\n",
    "Since the acceleration in the x direction is zero,  the horizontal component of velocity always remains constant during motion In addition to knowing this, we have one more equation\n",
    "<a id=\"Sec:MainIdea\"></a>\n",
    "### Main Idea\n",
    "<a id=\"Sec:MainIdea\"></a>\n",
    "Since the positive y axis is directed upward, the acceleration in the vertical direction is This value can be substituted in the equations for constant acceleration given above to yield the following:\n",
    "From Equation From Equation From Equation\n",
    "Recall that the last equation can be formulated on the basis of eliminating the time t  between the first two equations , and therefore only two of the above three equations are independent of one another.\n",
    "<a id=\"Sec:Summary\"></a>\n",
    "### Summary\n",
    "<a id=\"Sec:Summary\"></a>\n",
    "In addition to knowing that the horizontal component of velocity is constant [Hibbler doesn't say this, but it seems necessary for completeness], problems involving the motion of a projectile can have at most three unknowns since only three independent equations can be written:  that is, one equation in the horizontal direction and two in the vertical direction. Once  𝑣𝑥  and  𝑣𝑦  are obtained, the resultant velocity  𝐯 ,  which is always tangent to the path, is defined by the vector sum as shown in Figure\n",
    "<a id=\"Sec:MethAnlys\"></a>\n",
    "## Method and Analyses\n",
    "<a id=\"Sec:MethAnlys\"></a>\n",
    "Free-flight projectile motion problems can be solved using the following procedure..\n",
    "<a id=\"Sec:References\"></a>\n",
    "# References\n",
    "<a id=\"Sec:References\"></a>\n",
    "\n"
   ]
  }
 ],
 "metadata": {
  "kernelspec": {
   "display_name": "Python 3",
   "language": "python",
   "name": "python3"
  },
  "language_info": {
   "codemirror_mode": {
    "name": "ipython",
    "version": 3
   },
   "file_extension": ".py",
   "mimetype": "text/x-python",
   "name": "python",
   "nbconvert_exporter": "python",
   "pygments_lexer": "ipython3",
   "version": "3.9.1"
  }
 },
 "nbformat": 4,
 "nbformat_minor": 4
}
